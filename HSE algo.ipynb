{
 "cells": [
  {
   "cell_type": "code",
   "execution_count": null,
   "id": "d1874c7d",
   "metadata": {},
   "outputs": [],
   "source": [
    "# Последний максимум\n",
    "\n",
    "# Найдите наибольшее значение в списке и индекс последнего элемента, который\n",
    "# имеет данное значение за один проход по списку, не модифицируя этот список и\n",
    "# не используя дополнительного списка.\n",
    "\n",
    "data = tuple(map(int, input().split()))\n",
    "\n",
    "i = len(data) - 1\n",
    "max_index = i\n",
    "maximum = data[max_index]\n",
    "\n",
    "while i >= 0:\n",
    "    if data[i] > maximum:\n",
    "        maximum = data[i]\n",
    "        max_index = i\n",
    "    i -= 1\n",
    "\n",
    "print(maximum, max_index)"
   ]
  },
  {
   "cell_type": "code",
   "execution_count": null,
   "id": "9700b939",
   "metadata": {},
   "outputs": [],
   "source": []
  },
  {
   "cell_type": "code",
   "execution_count": null,
   "id": "9a759e7f",
   "metadata": {},
   "outputs": [],
   "source": [
    "def nearest_value(items, value):\n",
    "    '''Поиск ближайшего значения до value в списке items'''\n",
    "    found = items[0] # найденное значение (первоначально первое)\n",
    "    for item in items:\n",
    "        if abs(item - value) < abs(found - value):\n",
    "            found = item\n",
    "    return found"
   ]
  },
  {
   "cell_type": "code",
   "execution_count": null,
   "id": "24dfcc70",
   "metadata": {},
   "outputs": [],
   "source": []
  },
  {
   "cell_type": "code",
   "execution_count": null,
   "id": "13b8445e",
   "metadata": {},
   "outputs": [],
   "source": [
    "a = list(map(int, input().split()))\n",
    "a.sort()\n",
    "if a[0] * a[1] > a[-2] * a[-1]:\n",
    "    print(a[0], a[1])\n",
    "else:\n",
    "    print(a[-2], a[-1])"
   ]
  },
  {
   "cell_type": "code",
   "execution_count": null,
   "id": "d3b6074e",
   "metadata": {},
   "outputs": [],
   "source": [
    "data = sorted([*map(int, input().split())])\n",
    "\n",
    "print(data[0], data[1]) if data[0] * data[1] > data[-1] * data[-2] else print(data[-1], data[-2])"
   ]
  },
  {
   "cell_type": "code",
   "execution_count": null,
   "id": "598aeca8",
   "metadata": {},
   "outputs": [],
   "source": [
    "data = sorted([*map(int, input().split())])\n",
    "\n",
    "print(*max(data[:2], data[-2:], key=lambda obj: obj[0] * obj[1]))"
   ]
  },
  {
   "cell_type": "code",
   "execution_count": null,
   "id": "7efd0195",
   "metadata": {},
   "outputs": [],
   "source": []
  },
  {
   "cell_type": "code",
   "execution_count": null,
   "id": "8c6ff480",
   "metadata": {},
   "outputs": [],
   "source": [
    "a = map(int, input().split())\n",
    "a = list(a)\n",
    "a = sorted(a)\n",
    "s = max(a[0] * a[1] * a[2], a[len(a) - 1] * a[len(a) - 2] * a[len(a) - 3])\n",
    "s = max(s, a[len(a) - 1] * a[0] * a[1])\n",
    "if s == a[0] * a[1] * a[2]:\n",
    "    print(a[0], a[1], a[2])\n",
    "elif s == a[len(a) - 1] * a[len(a) - 2] * a[len(a) - 3]:\n",
    "    print(a[len(a) - 1], a[len(a) - 2], a[len(a) - 3])\n",
    "else:\n",
    "    print(a[len(a) - 1], a[0], a[1])"
   ]
  },
  {
   "cell_type": "code",
   "execution_count": null,
   "id": "4adbccab",
   "metadata": {},
   "outputs": [],
   "source": []
  },
  {
   "cell_type": "code",
   "execution_count": null,
   "id": "84f887a5",
   "metadata": {},
   "outputs": [],
   "source": [
    "\n",
    "inputlist = list(map(int, input().split()))\n",
    "if len(inputlist) == 3:\n",
    "    print(*inputlist)\n",
    "else:\n",
    "    max1 = max(inputlist)\n",
    "    min1 = min(inputlist)\n",
    "    inputlist.remove(max1)\n",
    "    inputlist.remove(min1)\n",
    "    max2 = max(inputlist)\n",
    "    min2 = min(inputlist)\n",
    "    inputlist.remove(max2)\n",
    "    max3 = max(inputlist)\n",
    "    if max1 * max2 * max3 > min1 * min2 * max1:\n",
    "        print(max1, max2, max3)\n",
    "    else:\n",
    "        print(min1, min2, max1)"
   ]
  },
  {
   "cell_type": "code",
   "execution_count": null,
   "id": "9fb6f186",
   "metadata": {},
   "outputs": [],
   "source": []
  },
  {
   "cell_type": "code",
   "execution_count": null,
   "id": "ae6f1516",
   "metadata": {},
   "outputs": [],
   "source": [
    "from collections import Counter\n",
    "\n",
    "n = int(input())\n",
    "a = list(map(int, input().split()))\n",
    "b = int(input())\n",
    "quan = list(map(int, input().split()))\n",
    "quan = Counter(quan)\n",
    "for i in range(len(a)):\n",
    "    if a[i] < quan[i + 1]:\n",
    "        print('yes')\n",
    "    else:\n",
    "        print('no')"
   ]
  },
  {
   "cell_type": "code",
   "execution_count": null,
   "id": "c9f4b637",
   "metadata": {},
   "outputs": [],
   "source": []
  },
  {
   "cell_type": "code",
   "execution_count": null,
   "id": "7637d248",
   "metadata": {},
   "outputs": [],
   "source": [
    "storage, n = map(int, input().split())\n",
    "\n",
    "users = list()\n",
    "while n:\n",
    "    users.append(int(input()))\n",
    "    n -= 1\n",
    "\n",
    "users.sort()\n",
    "cnt = 0\n",
    "for user in users:\n",
    "    storage -= user\n",
    "    if storage >= 0:\n",
    "        cnt += 1\n",
    "\n",
    "print(cnt)"
   ]
  },
  {
   "cell_type": "code",
   "execution_count": null,
   "id": "b8adbf16",
   "metadata": {},
   "outputs": [],
   "source": [
    "total_size, users = tuple(map(int, input().split()))\n",
    "data = []\n",
    "\n",
    "for i in range(users):\n",
    "    data.append(int(input()))\n",
    "\n",
    "data.sort()\n",
    "\n",
    "s = 0\n",
    "for i, size in enumerate(data):\n",
    "    s += size\n",
    "    if s > total_size:\n",
    "        break\n",
    "else:\n",
    "    i += 1\n",
    "\n",
    "print(i)"
   ]
  },
  {
   "cell_type": "code",
   "execution_count": null,
   "id": "5f3a10b3",
   "metadata": {},
   "outputs": [],
   "source": []
  },
  {
   "cell_type": "code",
   "execution_count": null,
   "id": "ef2e619f",
   "metadata": {},
   "outputs": [],
   "source": [
    "n = int(input())\n",
    "c = [int(i) for i in input().split()]\n",
    "k = int(input())\n",
    "p = [int(i) for i in input().split()]\n",
    "\n",
    "for i in range(k):\n",
    "\tc[p[i] - 1] -= 1\n",
    "\n",
    "for key in c:\n",
    "\tif key < 0:\n",
    "\t\tprint(\"YES\")\n",
    "\telse:\n",
    "\t\tprint(\"NO\")"
   ]
  },
  {
   "cell_type": "code",
   "execution_count": null,
   "id": "79cd31ad",
   "metadata": {},
   "outputs": [],
   "source": []
  },
  {
   "cell_type": "code",
   "execution_count": null,
   "id": "25ef6504",
   "metadata": {},
   "outputs": [],
   "source": [
    "li = list(map(int, input().split()))\n",
    "n = li[1]\n",
    "c = []\n",
    "while n > 0:\n",
    "    c.append(int(input()))\n",
    "    n -= 1\n",
    "\n",
    "c.sort()\n",
    "kol = 0\n",
    "sum = 0\n",
    "for el in c:\n",
    "    sum += el\n",
    "    kol += 1\n",
    "    if sum > li[0]:\n",
    "        kol -= 1\n",
    "        break\n",
    "print(kol)"
   ]
  },
  {
   "cell_type": "code",
   "execution_count": null,
   "id": "c93db962",
   "metadata": {},
   "outputs": [],
   "source": []
  },
  {
   "cell_type": "code",
   "execution_count": null,
   "id": "52e9ca91",
   "metadata": {},
   "outputs": [],
   "source": [
    "std_count = int(input())\n",
    "inputlist = [input().split() for now in range(std_count)]\n",
    "inputlist.sort(key=lambda x: -int(x[1]))\n",
    "[print(i[0]) for i in inputlist]"
   ]
  },
  {
   "cell_type": "code",
   "execution_count": null,
   "id": "e5ecb3af",
   "metadata": {},
   "outputs": [],
   "source": [
    "N = int(input())\n",
    "studentList = []\n",
    "for i in range(N):\n",
    "    student = input().split()\n",
    "    studentList.append((student[0], int(student[1])))\n",
    "\n",
    "studentList.sort(key=lambda x: -x[1])\n",
    "for i in range(N):\n",
    "    print(studentList[i][0])"
   ]
  },
  {
   "cell_type": "code",
   "execution_count": null,
   "id": "bf7a16d5",
   "metadata": {},
   "outputs": [],
   "source": []
  },
  {
   "cell_type": "code",
   "execution_count": null,
   "id": "7afa8e33",
   "metadata": {},
   "outputs": [],
   "source": [
    "dist = sorted([int(i) for i in input().split()])\n",
    "price = sorted([int(i) for i in input().split()], reverse=True)\n",
    "print(sum([dist[i] * price[i] for i in range(len(dist))]))"
   ]
  },
  {
   "cell_type": "code",
   "execution_count": null,
   "id": "35bee809",
   "metadata": {},
   "outputs": [],
   "source": [
    "dist = list(map(int, input().split()))\n",
    "tax = list(map(int, input().split()))\n",
    "dist.sort()\n",
    "tax.sort(reverse=True)\n",
    "total = 0\n",
    "for i, e in enumerate(dist):\n",
    "    total += e * tax[i]\n",
    "print(total)"
   ]
  },
  {
   "cell_type": "code",
   "execution_count": null,
   "id": "cf2c7d8e",
   "metadata": {},
   "outputs": [],
   "source": []
  },
  {
   "cell_type": "code",
   "execution_count": null,
   "id": "05c17609",
   "metadata": {},
   "outputs": [],
   "source": [
    "a = list(map(int, input().split()))\n",
    "b = list(map(int, input().split()))\n",
    "\n",
    "\n",
    "def merge(A, B):\n",
    "    cl = []\n",
    "    i, j = 0, 0\n",
    "    for k in range(len(A) + len(B)):\n",
    "        if i < len(A) and j < len(B):\n",
    "            if A[i] < B[j]:\n",
    "                cl.append(A[i])\n",
    "                i += 1\n",
    "            else:\n",
    "                cl.append(B[j])\n",
    "                j += 1\n",
    "        elif i < len(A):\n",
    "            cl.append(A[i])\n",
    "            i += 1\n",
    "        elif j < len(B):\n",
    "            cl.append(B[j])\n",
    "            j += 1\n",
    "    return cl\n",
    "\n",
    "\n",
    "print(*merge(a, b)"
   ]
  },
  {
   "cell_type": "code",
   "execution_count": null,
   "id": "3556ed9e",
   "metadata": {},
   "outputs": [],
   "source": [
    "a = list(map(int, input().split()))\n",
    "b = list(map(int, input().split()))\n",
    "\n",
    "\n",
    "def merge(a, b):\n",
    "    a.extend(b)\n",
    "    a = sorted(a)\n",
    "    print(*a)\n",
    "\n",
    "\n",
    "merge(a, b)"
   ]
  },
  {
   "cell_type": "code",
   "execution_count": null,
   "id": "c91afc0f",
   "metadata": {},
   "outputs": [],
   "source": []
  },
  {
   "cell_type": "code",
   "execution_count": null,
   "id": "47ce560b",
   "metadata": {},
   "outputs": [],
   "source": [
    "class Participant:\n",
    "    def __init__(self, row):\n",
    "        self.l_name = row[0]\n",
    "        self.f_name = row[1]\n",
    "        self.group = int(row[2])\n",
    "        self.score = int(row[3])\n",
    "\n",
    "\n",
    "def main():\n",
    "    scores = [0] * 3\n",
    "    with open('input.txt', 'r', encoding='utf-8') as f:\n",
    "        for line in f:\n",
    "            participant = Participant(line.split())\n",
    "            i = participant.group - 9\n",
    "            if participant.score > scores[i]:\n",
    "                scores[i] = participant.score\n",
    "    print(*scores)\n",
    "\n",
    "\n",
    "main()"
   ]
  },
  {
   "cell_type": "code",
   "execution_count": null,
   "id": "ba123ec8",
   "metadata": {},
   "outputs": [],
   "source": [
    "def maxScore():\n",
    "    max = [0] * 3\n",
    "    with open('input.txt', 'r', encoding='utf-8') as file:\n",
    "        for line in file:\n",
    "            arr = line.split()\n",
    "            score = int(arr[3])\n",
    "            sClass = int(arr[2])\n",
    "            if (max[11 - sClass] < score):\n",
    "                max[11 - sClass] = score\n",
    "    max.reverse()\n",
    "    return max\n",
    "\n",
    "print(*maxScore())"
   ]
  },
  {
   "cell_type": "code",
   "execution_count": null,
   "id": "9da70f43",
   "metadata": {},
   "outputs": [],
   "source": []
  },
  {
   "cell_type": "code",
   "execution_count": null,
   "id": "2e30c5e4",
   "metadata": {},
   "outputs": [],
   "source": [
    "inFile = open('input_task_06_07.txt', 'r', encoding='utf8')\n",
    "estimate = [[0, 0] for i in range(3)]\n",
    "for line in inFile:\n",
    "    lineData = line.strip().split()\n",
    "    estimate[int(lineData[2]) - 9][0] += 1\n",
    "    estimate[int(lineData[2]) - 9][1] += int(lineData[3])\n",
    "inFile.close()\n",
    "outFile = open('output_task_06_07.txt', 'w', encoding='utf8')\n",
    "outFile.write(' '.join([str(estimate[i][1]/estimate[i][0]) for i in range(3)]))\n",
    "outFile.close()"
   ]
  },
  {
   "cell_type": "code",
   "execution_count": null,
   "id": "de988c21",
   "metadata": {},
   "outputs": [],
   "source": [
    "fin = open('input.txt', 'r', encoding='utf-8')\n",
    "\n",
    "grades_data = [[0, 0], [0, 0], [0, 0]]\n",
    "\n",
    "for line in fin:\n",
    "    dataline = line.split()\n",
    "    form, grade = int(dataline[2]), int(dataline[3])\n",
    "    grades_data[form - 9][0] += 1\n",
    "    grades_data[form - 9][1] += grade\n",
    "fin.close()\n",
    "\n",
    "for form_grades_info in grades_data:\n",
    "    qty, total = form_grades_info\n",
    "    print(total / qty, end=' ')"
   ]
  }
 ],
 "metadata": {
  "kernelspec": {
   "display_name": "Python 3 (ipykernel)",
   "language": "python",
   "name": "python3"
  },
  "language_info": {
   "codemirror_mode": {
    "name": "ipython",
    "version": 3
   },
   "file_extension": ".py",
   "mimetype": "text/x-python",
   "name": "python",
   "nbconvert_exporter": "python",
   "pygments_lexer": "ipython3",
   "version": "3.9.7"
  }
 },
 "nbformat": 4,
 "nbformat_minor": 5
}
