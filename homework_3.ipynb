{
 "cells": [
  {
   "cell_type": "markdown",
   "id": "b0decbab",
   "metadata": {},
   "source": [
    "# №3. Списки (list), цикл for"
   ]
  },
  {
   "cell_type": "markdown",
   "id": "d73c915f",
   "metadata": {},
   "source": [
    "## 1) Распечатать на экране все цвета из списка colors с помощью цикла for"
   ]
  },
  {
   "cell_type": "code",
   "execution_count": null,
   "id": "b209c472",
   "metadata": {},
   "outputs": [],
   "source": [
    "colors = ['red', 'orange', 'yellow', 'green', 'cyan', 'blue', 'violet']"
   ]
  },
  {
   "cell_type": "markdown",
   "id": "0355cebf",
   "metadata": {},
   "source": [
    "## 2) Посчитать сумму всех чисел от 1 до введенного целого числа n (включая) с помощью цикла for"
   ]
  },
  {
   "cell_type": "code",
   "execution_count": null,
   "id": "e738d4b9",
   "metadata": {},
   "outputs": [],
   "source": [
    "n = input()\n",
    "summ\n",
    "for i in range(1, n+1):\n",
    "    summ\n",
    "print(summ)"
   ]
  },
  {
   "cell_type": "markdown",
   "id": "9bd647fd",
   "metadata": {},
   "source": [
    "## 3) Перебрать все числа от 0 до n (с помощью цикла for) и возвести в куб, вывести на экран"
   ]
  },
  {
   "cell_type": "code",
   "execution_count": null,
   "id": "8ded9d4f",
   "metadata": {},
   "outputs": [],
   "source": [
    "n = input()\n",
    "for i in range(n)"
   ]
  },
  {
   "cell_type": "markdown",
   "id": "2a1f2a8c",
   "metadata": {},
   "source": [
    "## 4) Отсортировать список A по возрастанию, перебрать с помощью цикла for все элементы  списка и если число нечетное, то возвести его в квадрат и добавить в пустой список B"
   ]
  },
  {
   "cell_type": "code",
   "execution_count": null,
   "id": "cb4f48fc",
   "metadata": {},
   "outputs": [],
   "source": [
    "A = [1, 100, 54, 67, 3, 9, 72, 26, 29, 68, 64, 99, 88, 83, 34, 36, 40, 5, 2, 6, 77, 44, 31, 13, 8, 4, 53]\n",
    "B = []\n",
    "# посмотреть методы (функции списка) через точку A.\n",
    "for i in A:\n",
    "\n",
    "print(B)"
   ]
  },
  {
   "cell_type": "markdown",
   "id": "2e4379b5",
   "metadata": {},
   "source": [
    "## 5) Перебрать список из слов, и вывести на экран каждое слово и его длину"
   ]
  },
  {
   "cell_type": "code",
   "execution_count": null,
   "id": "40306974",
   "metadata": {},
   "outputs": [],
   "source": [
    "# На экране должно быть наподобие такой строчки для каждого слова: \"Слово - cat; длина слова 3 буквы\"\n",
    "# поэтому помни вот это)) print(f'Привет {name}')\n",
    "slovar = ['cat', 'dog', 'window', 'school', 'game', 'sun', 'athletic', 'home', 'work']"
   ]
  },
  {
   "cell_type": "markdown",
   "id": "5627f4c5",
   "metadata": {},
   "source": [
    "## 6) Перебрать все элементы списка A и если элемент положительный, то вывести OK и этот элемент"
   ]
  },
  {
   "cell_type": "code",
   "execution_count": null,
   "id": "3590600f",
   "metadata": {},
   "outputs": [],
   "source": [
    "A = [-1, 100, -54, 67, -3, 9, -72, -26, -29, 68, -64, 99, -88, -83, 34, 36, -40, 5, -2, -6, 77, 44, -31, -13, 8, -4, 53]\n",
    "for elem in a:"
   ]
  },
  {
   "cell_type": "markdown",
   "id": "98bfd822",
   "metadata": {},
   "source": [
    "## 7) Найти все индексы числа 7 в списке A и выписать в список B, и вывести количество этого числа (длина списка В)"
   ]
  },
  {
   "cell_type": "code",
   "execution_count": null,
   "id": "d43d5c79",
   "metadata": {},
   "outputs": [],
   "source": [
    "A = [7, 0, 6, 7, 3, 6, 88, 35, 33, 32, 76, 7, 8, 10, 16, 7, 19, 21, 7, 54, 99, 100, 43, 7]\n",
    "B = []"
   ]
  },
  {
   "cell_type": "code",
   "execution_count": null,
   "id": "72b44490",
   "metadata": {},
   "outputs": [],
   "source": [
    "# напомню есть метод у списка (называется .count()), он ищет количество элементов ^_^,\n",
    "# поэтому можно в одну строчку это сделать, но я хочу чтобы понимали как этот метод работает )))"
   ]
  },
  {
   "cell_type": "markdown",
   "id": "76449b1e",
   "metadata": {},
   "source": [
    "## 8) Перебрать список имен, если имя начинается на букву А, то не выписывать его в отдельный список new_ name. Подсчитать количество имен в новом списке"
   ]
  },
  {
   "cell_type": "code",
   "execution_count": null,
   "id": "6d3d12cf",
   "metadata": {},
   "outputs": [],
   "source": [
    "names = [\"Timon\", \"Eric\", \"Aleksandr\", \"John\", \"Michael\", \"Alex\", \"Adrian\", \"Doshik\", \"Pumba\", \"Alesha\"]\n",
    "new_name = []"
   ]
  },
  {
   "cell_type": "markdown",
   "id": "283fb96d",
   "metadata": {},
   "source": [
    "## 9) Перебрать все e-mail в списке EMAILS, если email оканчивается на .ru, то вывести на экран"
   ]
  },
  {
   "cell_type": "code",
   "execution_count": 4,
   "id": "7d2093d0",
   "metadata": {},
   "outputs": [
    {
     "data": {
      "text/plain": [
       "'.ru'"
      ]
     },
     "execution_count": 4,
     "metadata": {},
     "output_type": "execute_result"
    }
   ],
   "source": [
    "# Подсказка:\n",
    "a = 'muuuuhhaa@mail.ru'\n",
    "a[-3:] # последние три символа"
   ]
  },
  {
   "cell_type": "code",
   "execution_count": 6,
   "id": "733bf783",
   "metadata": {},
   "outputs": [
    {
     "data": {
      "text/plain": [
       "'.r'"
      ]
     },
     "execution_count": 6,
     "metadata": {},
     "output_type": "execute_result"
    }
   ],
   "source": [
    "a[-3:-1] # последние символы от третьего с конца до последнего, не включая его"
   ]
  },
  {
   "cell_type": "code",
   "execution_count": 5,
   "id": "77d33089",
   "metadata": {},
   "outputs": [
    {
     "data": {
      "text/plain": [
       "True"
      ]
     },
     "execution_count": 5,
     "metadata": {},
     "output_type": "execute_result"
    }
   ],
   "source": [
    "'.ru' == '.ru'"
   ]
  },
  {
   "cell_type": "code",
   "execution_count": null,
   "id": "d479ccc0",
   "metadata": {},
   "outputs": [],
   "source": [
    "EMAILS = ['kipok@mail.ru', 'alesha28@yandex.ru', 'hunnn@yahoo.сom', 'musk@bk.net', 'lfooo@google.com', 'mukka@mail.ru']"
   ]
  },
  {
   "cell_type": "markdown",
   "id": "642372a4",
   "metadata": {},
   "source": [
    "## 10) Есть список name, вывести новый список new_name, в котором записаны имена, длина которых больше 5 символов"
   ]
  },
  {
   "cell_type": "code",
   "execution_count": null,
   "id": "e117b0b0",
   "metadata": {},
   "outputs": [],
   "source": [
    "names = [\"Timon\", \"Eric\", \"Aleksandr\", \"John\", \"Michael\", \"Alex\", \"Adrian\", \"Doshik\", \"Pumba\", \"Alesha\"]\n",
    "new_names = []"
   ]
  },
  {
   "cell_type": "markdown",
   "id": "f015ea42",
   "metadata": {},
   "source": [
    "## 11) Представим, что есть текст (Властелин колец), добавить в список все слова длина которых меньше больше 3 и меньше 6 символов. И вывести этот список на экран через цикл for"
   ]
  },
  {
   "cell_type": "code",
   "execution_count": null,
   "id": "6ea1928a",
   "metadata": {},
   "outputs": [],
   "source": [
    "# Напомню метод AA.split(' ') -> означает разделить строку AA по пробелам и вывести в список"
   ]
  },
  {
   "cell_type": "code",
   "execution_count": 7,
   "id": "a930763e",
   "metadata": {},
   "outputs": [],
   "source": [
    "TEXT = 'Рассказ у нас пойдет в особенности о хоббитах, и любознательный читатель многое узнает об их нравах и кое-что из их истории. Самых любознательных отсылаем к повести под названием «Хоббит», где пересказаны начальные главы Алой Книги Западных Пределов, которые написал Бильбо Торбинс, впервые прославивший свой народец в большом мире. Главы эти носят общий подзаголовок «Туда и обратно», потому что повествуют о странствии Бильбо на восток ивозвращении домой. Как раз по милости Бильбо хоббиты и угодили в самую лавину грозных событий, о которых нам предстоит поведать'\n",
    "words = []"
   ]
  },
  {
   "cell_type": "markdown",
   "id": "907f2c46",
   "metadata": {},
   "source": [
    "## 12) Представим, что ты охранник-секьюрети. Тебе говорят \"имя и фамилию\" через пробел на входе, если фамилия есть в списке запрещенных alarm_names, то вывести Вход запрещен, иначе Входите"
   ]
  },
  {
   "cell_type": "code",
   "execution_count": null,
   "id": "aeb8bac3",
   "metadata": {},
   "outputs": [],
   "source": [
    "name = input() # 'Иван Иванов'\n",
    "alarm_names = ['Мавроди', 'Трамп', 'Пупкин', 'Грифин', 'Колобородыч']"
   ]
  }
 ],
 "metadata": {
  "kernelspec": {
   "display_name": "Python 3 (ipykernel)",
   "language": "python",
   "name": "python3"
  },
  "language_info": {
   "codemirror_mode": {
    "name": "ipython",
    "version": 3
   },
   "file_extension": ".py",
   "mimetype": "text/x-python",
   "name": "python",
   "nbconvert_exporter": "python",
   "pygments_lexer": "ipython3",
   "version": "3.9.7"
  }
 },
 "nbformat": 4,
 "nbformat_minor": 5
}
