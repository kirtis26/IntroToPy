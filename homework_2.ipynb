{
 "cells": [
  {
   "cell_type": "markdown",
   "id": "bf0c63bf",
   "metadata": {},
   "source": [
    "## 1. Проверка введенного числа на знак (положительный / отрицательный)"
   ]
  },
  {
   "cell_type": "code",
   "execution_count": null,
   "id": "a5548b97",
   "metadata": {},
   "outputs": [],
   "source": [
    "n = input()\n",
    "if ():\n",
    "    print()\n",
    "elif ():\n",
    "    print()\n",
    "else ():\n",
    "    print()"
   ]
  },
  {
   "cell_type": "markdown",
   "id": "43b08fdf",
   "metadata": {},
   "source": [
    "## 2. Сравнение двух чисел (какое больше / меньше)"
   ]
  },
  {
   "cell_type": "code",
   "execution_count": null,
   "id": "1f3509eb",
   "metadata": {},
   "outputs": [],
   "source": [
    "n1 = input()\n",
    "n2 = \n",
    "if ():\n",
    "    print()\n",
    "elif ():\n",
    "    print()\n",
    "else ():\n",
    "    print()"
   ]
  },
  {
   "cell_type": "markdown",
   "id": "c8d1d49e",
   "metadata": {},
   "source": [
    "## 3. Задача: мы вводим температуру, на выходе должны получить значение, которое лежит в пределах от -50 градусов до 50 градусов. То есть, если введенное значение меньше -50, то принять значение температуры -50, или же, если введенное значение температуры будет больше 50 градусов, то принять это значение равным 50. Если значение температуры лежит в пределах (-50; 50), то не изменять значение"
   ]
  },
  {
   "cell_type": "code",
   "execution_count": null,
   "id": "45bd98cf",
   "metadata": {},
   "outputs": [],
   "source": [
    "temp = input()\n",
    "if ():\n",
    "    temp = \n",
    "elif ():\n",
    "    temp = \n",
    "print(temp)"
   ]
  },
  {
   "cell_type": "markdown",
   "id": "5f36ab3d",
   "metadata": {},
   "source": [
    "## 4. Проверка на совпадение 3-х введенных чисел"
   ]
  },
  {
   "cell_type": "code",
   "execution_count": null,
   "id": "ad7f7b2e",
   "metadata": {},
   "outputs": [],
   "source": [
    "n1 = input()\n",
    "n2 = input()\n",
    "n3 = input()\n",
    "if () and ():\n",
    "    print('3 числа совпадают')\n",
    "else:\n",
    "    print('все числа уникальны')"
   ]
  },
  {
   "cell_type": "markdown",
   "id": "30181e4e",
   "metadata": {},
   "source": [
    "## 5. Поприветстовать знакомого человека. Есть знакомое имя (например, Donald), если прихожий человек говорит, что он Donald, то сказать \"Hello, Donald !\", если же нет, то \"Hello, unknown)\""
   ]
  },
  {
   "cell_type": "code",
   "execution_count": null,
   "id": "aec048f3",
   "metadata": {},
   "outputs": [],
   "source": [
    "name = input()\n",
    "known_name = 'Donald'\n",
    "if \n",
    "    print()\n",
    "else\n",
    "    print()"
   ]
  },
  {
   "cell_type": "markdown",
   "id": "55850edd",
   "metadata": {},
   "source": [
    "## 6. Ввести целое положительное число (минимум двузначное, например 12) и проверить, совпадает ли первая цифра с последней. Вывести YES или NO соответственно"
   ]
  },
  {
   "cell_type": "code",
   "execution_count": null,
   "id": "c5f620d3",
   "metadata": {},
   "outputs": [],
   "source": [
    "# подсказка: представить число в виде строки. И сравнивать первый и последний элемент строки\n",
    "n = input()\n",
    "if\n",
    "print\n",
    "else\n",
    "print"
   ]
  },
  {
   "cell_type": "markdown",
   "id": "c2a6478d",
   "metadata": {},
   "source": [
    "## 7. Проверка введенного числа на четность: если четное (делится на 2), то вывести YES, иначе NO"
   ]
  },
  {
   "cell_type": "code",
   "execution_count": null,
   "id": "2448d5f9",
   "metadata": {},
   "outputs": [],
   "source": []
  },
  {
   "cell_type": "markdown",
   "id": "4deb1a2c",
   "metadata": {},
   "source": [
    "## 8. Если введенное целое число положительное, то изменить его на отрицательное"
   ]
  },
  {
   "cell_type": "code",
   "execution_count": null,
   "id": "fa95ea64",
   "metadata": {},
   "outputs": [],
   "source": []
  },
  {
   "cell_type": "markdown",
   "id": "533d470f",
   "metadata": {},
   "source": [
    "## 9. Написать программу, которая по введенным ненулевым числам x и y определяет, в какой из четвертей координатной плоскости находится точка (x,y):"
   ]
  },
  {
   "cell_type": "code",
   "execution_count": null,
   "id": "ea65e593",
   "metadata": {},
   "outputs": [],
   "source": [
    "x = input\n",
    "y = input\n",
    "if (x > 0):\n",
    "    if (y > 0):\n",
    "        print()\n",
    "    else:\n",
    "        print()\n",
    "else:\n",
    "    if ():\n",
    "        print()\n",
    "    else:\n",
    "        print()"
   ]
  },
  {
   "cell_type": "code",
   "execution_count": null,
   "id": "3deefa9c",
   "metadata": {},
   "outputs": [],
   "source": [
    "# попытаться написать с помощью if, elif, else"
   ]
  },
  {
   "cell_type": "markdown",
   "id": "00791cc7",
   "metadata": {},
   "source": [
    "## 10. Вывести на экран квадраты всех целых чисел от 1 до введенного числа"
   ]
  },
  {
   "cell_type": "code",
   "execution_count": null,
   "id": "4474ec61",
   "metadata": {},
   "outputs": [],
   "source": [
    "n1 = 1\n",
    "n2 = input()\n",
    "while (n1 <= n2):\n",
    "    print()\n",
    "    n1 ="
   ]
  },
  {
   "cell_type": "markdown",
   "id": "406108da",
   "metadata": {},
   "source": [
    "## 11. Есть строка (например, \"Heeloo, my frd\"). Распечатать каждый символ строки с помозью цикла while"
   ]
  },
  {
   "cell_type": "code",
   "execution_count": null,
   "id": "d22c9926",
   "metadata": {},
   "outputs": [],
   "source": [
    "stroka = 'Heeloo, my frd'\n",
    "i = 0\n",
    "while (i < len_str):\n",
    "    stroka[i]\n",
    "    i = "
   ]
  },
  {
   "cell_type": "markdown",
   "id": "0c96c2d7",
   "metadata": {},
   "source": [
    "## 12. Вводистя положительное целое число N. Вывести все числа от 0 до N с помощью цикла while."
   ]
  },
  {
   "cell_type": "code",
   "execution_count": null,
   "id": "f0be5fc7",
   "metadata": {},
   "outputs": [],
   "source": [
    "N = input()\n",
    "i = 0\n",
    "while ():\n",
    "    print(i)\n",
    "    i ="
   ]
  },
  {
   "cell_type": "markdown",
   "id": "4eb1e510",
   "metadata": {},
   "source": [
    "## 13. Дано положительное число N. Найти сумму всех четных чисел от 0 до N с помощью цикла while."
   ]
  },
  {
   "cell_type": "code",
   "execution_count": null,
   "id": "188497fa",
   "metadata": {},
   "outputs": [],
   "source": []
  }
 ],
 "metadata": {
  "kernelspec": {
   "display_name": "Python 3 (ipykernel)",
   "language": "python",
   "name": "python3"
  },
  "language_info": {
   "codemirror_mode": {
    "name": "ipython",
    "version": 3
   },
   "file_extension": ".py",
   "mimetype": "text/x-python",
   "name": "python",
   "nbconvert_exporter": "python",
   "pygments_lexer": "ipython3",
   "version": "3.9.7"
  }
 },
 "nbformat": 4,
 "nbformat_minor": 5
}
