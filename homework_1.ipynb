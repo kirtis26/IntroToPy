{
 "cells": [
  {
   "cell_type": "markdown",
   "id": "e3ddfcf0",
   "metadata": {},
   "source": [
    "# №1: Дан набор символов (тип данных в Python - str): необходимо получить любым простым способом другое слово"
   ]
  },
  {
   "cell_type": "markdown",
   "id": "56b08fef",
   "metadata": {},
   "source": [
    "#### 0) 'fgcoppfe' получить 'coffee':"
   ]
  },
  {
   "cell_type": "code",
   "execution_count": 6,
   "id": "d7ef470a",
   "metadata": {},
   "outputs": [
    {
     "name": "stdout",
     "output_type": "stream",
     "text": [
      "fgcoppfe --> coffee\n"
     ]
    }
   ],
   "source": [
    "example = 'fgcoppfe'\n",
    "result = example[2:4] + 2*example[0] + 2*example[-1] # Расшифровка: 'co' + 2 * 'f' + 2 * 'e'\n",
    "print(example, '-->', result)"
   ]
  },
  {
   "cell_type": "markdown",
   "id": "04abd03d",
   "metadata": {},
   "source": [
    "#### 1) дано 'travel' получить 'traveleeer':"
   ]
  },
  {
   "cell_type": "code",
   "execution_count": null,
   "id": "316de97d",
   "metadata": {},
   "outputs": [],
   "source": [
    "# здесь твой код :-)"
   ]
  },
  {
   "cell_type": "markdown",
   "id": "d96465a2",
   "metadata": {},
   "source": [
    "#### 2) дано 'twes' получить 'sweet':"
   ]
  },
  {
   "cell_type": "code",
   "execution_count": null,
   "id": "21fcccbf",
   "metadata": {},
   "outputs": [],
   "source": [
    "# здесь твой код :-)"
   ]
  },
  {
   "cell_type": "markdown",
   "id": "486e0814",
   "metadata": {},
   "source": [
    "#### 3) дано 'recopmtu' получить 'computer':"
   ]
  },
  {
   "cell_type": "code",
   "execution_count": null,
   "id": "b1690f5c",
   "metadata": {},
   "outputs": [],
   "source": [
    "# здесь твой код :-)"
   ]
  },
  {
   "cell_type": "markdown",
   "id": "b38390b5",
   "metadata": {},
   "source": [
    "#### 4) дано 'terofs' получить 'forest':"
   ]
  },
  {
   "cell_type": "code",
   "execution_count": null,
   "id": "feb14156",
   "metadata": {},
   "outputs": [],
   "source": [
    "# здесь твой код :-)"
   ]
  },
  {
   "cell_type": "markdown",
   "id": "f7514cf9",
   "metadata": {},
   "source": [
    "# №2: Простейшие программки"
   ]
  },
  {
   "cell_type": "markdown",
   "id": "eaea2bc6",
   "metadata": {},
   "source": [
    "#### 0) Программа для вычисления площади дачного участка"
   ]
  },
  {
   "cell_type": "code",
   "execution_count": 28,
   "id": "92282581",
   "metadata": {},
   "outputs": [
    {
     "name": "stdout",
     "output_type": "stream",
     "text": [
      "Введите ширину дачного участка в метрах: 5.5\n",
      "Введите длину дачного участка в метрах: 4\n",
      "Площадь дачного участка равна 22.0 м2\n"
     ]
    }
   ],
   "source": [
    "# стороны - это длины. Измеряются в метрах, поэтому это число будет с запятой (тип данных float). Например: 7.3 (метров)\n",
    "# Помни, что результатом функции input() является данные с типом str\n",
    "width = input(\"Введите ширину дачного участка в метрах: \")  # тип данных str, поэтому переделываем в float в следующей строчке\n",
    "width = float(width)\n",
    "length = float(input(\"Введите длину дачного участка в метрах: \")) # сокращенное действие (в одну строчку)\n",
    "Square = width * length\n",
    "print('Площадь дачного участка равна', Square, 'м2')"
   ]
  },
  {
   "cell_type": "markdown",
   "id": "39901eec",
   "metadata": {},
   "source": [
    "#### 1) Реализовать программу, которая складывает первые два введенных числа и потом эту сумму возводит в квадрат"
   ]
  },
  {
   "cell_type": "code",
   "execution_count": null,
   "id": "eab50075",
   "metadata": {},
   "outputs": [],
   "source": [
    "# Твой код здесь ^_^\n",
    "a = input()\n",
    "b = input()\n",
    "c = input()\n",
    "d = ...\n",
    "print()"
   ]
  },
  {
   "cell_type": "markdown",
   "id": "3ce9877f",
   "metadata": {},
   "source": [
    "#### 2) Реализовать программу, которая считает площадь круга: ты вводишь только радиус в см -> получаешь площадь в метрах квадратных. Найти площадь половины круга, радиусом 175 см"
   ]
  },
  {
   "attachments": {
    "image-2.png": {
     "image/png": "[encoded data removed]"
    }
   },
   "cell_type": "markdown",
   "id": "b13c8ffd",
   "metadata": {},
   "source": [
    "![image-2.png](attachment:image-2.png)"
   ]
  },
  {
   "cell_type": "code",
   "execution_count": null,
   "id": "6a1e7e64",
   "metadata": {},
   "outputs": [],
   "source": [
    "# Твой код здесь ^_^\n",
    "r = input()\n",
    "pi = 3.14\n",
    "S = ...\n",
    "print()"
   ]
  },
  {
   "cell_type": "markdown",
   "id": "0bffba89",
   "metadata": {},
   "source": [
    "#### 3) Реализовать программу, которая переводит секунды в минуты и часы. Перевести 900 секунд в минуты и часы"
   ]
  },
  {
   "cell_type": "code",
   "execution_count": null,
   "id": "2113c46b",
   "metadata": {},
   "outputs": [],
   "source": [
    "# Твой код здесь ^_^\n",
    "sek = input()\n",
    "minut = ...\n",
    "hour = ...\n",
    "print()"
   ]
  },
  {
   "cell_type": "markdown",
   "id": "1d511b42",
   "metadata": {},
   "source": [
    "#### 4) Реализовать программу, которая считает сколько яблок останется при распределении 138-х яблок между 17-ю одноклассниками ПОРОВНУ.  И вывести сколько яблок получает КАЖДЫЙ однокашник)"
   ]
  },
  {
   "cell_type": "code",
   "execution_count": 31,
   "id": "6d20e524",
   "metadata": {},
   "outputs": [
    {
     "name": "stdout",
     "output_type": "stream",
     "text": [
      "1\n",
      "2\n"
     ]
    }
   ],
   "source": [
    "# Посдказка\n",
    "print(15 % 7)\n",
    "print(15 // 7)"
   ]
  },
  {
   "cell_type": "code",
   "execution_count": null,
   "id": "f9bc0f55",
   "metadata": {},
   "outputs": [],
   "source": [
    "# Твой код здесь ^_^\n",
    "n = input() # количество однокашек (помни что количество чего-то или кого-то это целое число! :))\n",
    "k = input() # количество яблок\n",
    "ostatok = ...\n",
    "count_apple = ...\n",
    "print()"
   ]
  },
  {
   "cell_type": "markdown",
   "id": "0fff58f7",
   "metadata": {},
   "source": [
    "#### 5) Реализовать программу, которая приветствует тебя) как операционная система при запуске компьютера. Подсчитать и вывести длину имени (количество символов в нем) и первую букву имени."
   ]
  },
  {
   "cell_type": "code",
   "execution_count": null,
   "id": "3f147bda",
   "metadata": {},
   "outputs": [],
   "source": [
    "# Результат должен быть таков:\n",
    "# Hello, Kirill! Количество символов в имени: 6. Имя начинается с буквы: К"
   ]
  },
  {
   "cell_type": "code",
   "execution_count": null,
   "id": "47fddd4a",
   "metadata": {},
   "outputs": [],
   "source": [
    "len() # длина строки"
   ]
  },
  {
   "cell_type": "code",
   "execution_count": null,
   "id": "94afadf8",
   "metadata": {},
   "outputs": [],
   "source": [
    "name = input()\n",
    "lenght = ...\n",
    "...\n",
    "print()"
   ]
  }
 ],
 "metadata": {
  "kernelspec": {
   "display_name": "Python 3 (ipykernel)",
   "language": "python",
   "name": "python3"
  },
  "language_info": {
   "codemirror_mode": {
    "name": "ipython",
    "version": 3
   },
   "file_extension": ".py",
   "mimetype": "text/x-python",
   "name": "python",
   "nbconvert_exporter": "python",
   "pygments_lexer": "ipython3",
   "version": "3.9.7"
  }
 },
 "nbformat": 4,
 "nbformat_minor": 5
}
